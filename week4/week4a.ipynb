{
  "nbformat": 4,
  "nbformat_minor": 0,
  "metadata": {
    "colab": {
      "provenance": [],
      "authorship_tag": "ABX9TyPb4lka8ibsryEXEUZ1h5gs",
      "include_colab_link": true
    },
    "kernelspec": {
      "name": "python3",
      "display_name": "Python 3"
    },
    "language_info": {
      "name": "python"
    }
  },
  "cells": [
    {
      "cell_type": "markdown",
      "metadata": {
        "id": "view-in-github",
        "colab_type": "text"
      },
      "source": [
        "<a href=\"https://colab.research.google.com/github/KIM-JUHUI25/EP_KHU/blob/main/week4/week4a.ipynb\" target=\"_parent\"><img src=\"https://colab.research.google.com/assets/colab-badge.svg\" alt=\"Open In Colab\"/></a>"
      ]
    },
    {
      "cell_type": "code",
      "execution_count": 2,
      "metadata": {
        "colab": {
          "base_uri": "https://localhost:8080/"
        },
        "id": "HH09nNTupeTj",
        "outputId": "bddadbed-31ca-47dd-8bf9-b8d9252947fd"
      },
      "outputs": [
        {
          "output_type": "stream",
          "name": "stdout",
          "text": [
            "Enter a number:-9\n",
            "Negative number\n"
          ]
        }
      ],
      "source": [
        "x=int(input(\"Enter a number:\"))\n",
        "if x>0:\n",
        "   print(\"Positive number\")\n",
        "elif x<0:\n",
        "  print (\"Negative number\")\n",
        "else:\n",
        "  print (\"Zero\")"
      ]
    },
    {
      "cell_type": "code",
      "source": [
        "age=int(input(\"Enter your age: \"))\n",
        "if age < 18:\n",
        "  print(\"You are not eligible to vote\")\n",
        "elif age >= 18 and age < 65:\n",
        " print(\"You are eligible to vote\")\n",
        "else:\n",
        "  print(\"You are eligible to vote, but not required to\")"
      ],
      "metadata": {
        "colab": {
          "base_uri": "https://localhost:8080/"
        },
        "id": "WuhwMmAOry-c",
        "outputId": "65148a59-e34d-4b2f-8cc6-8e092bb1db8c"
      },
      "execution_count": 6,
      "outputs": [
        {
          "output_type": "stream",
          "name": "stdout",
          "text": [
            "Enter your age: 22\n",
            "You are eligible to vote\n"
          ]
        }
      ]
    },
    {
      "cell_type": "code",
      "source": [
        "score= int(input(\"Enter you test score: \"))\n",
        "if score>= 90:\n",
        "   print(\"You got an AI\")\n",
        "elif score>=80:\n",
        "  print(\"You got a B.\")\n",
        "elif score>=70:\n",
        "  print(\"You got a C.\")\n",
        "elif score>=60:\n",
        "  print(\"You got a D.\")\n",
        "else:\n",
        "  print(\"You failed the test.\")"
      ],
      "metadata": {
        "colab": {
          "base_uri": "https://localhost:8080/"
        },
        "id": "_mNi0gk9sR5r",
        "outputId": "854f745b-af17-4c9f-c837-d0bc027f074d"
      },
      "execution_count": 9,
      "outputs": [
        {
          "output_type": "stream",
          "name": "stdout",
          "text": [
            "Enter you test score: 77\n",
            "You got a C.\n"
          ]
        }
      ]
    },
    {
      "cell_type": "code",
      "source": [
        "for i in range(2,10):\n",
        "  for j in range(1,10):\n",
        "    print(i*j, end=\" \")\n",
        "  print('')"
      ],
      "metadata": {
        "colab": {
          "base_uri": "https://localhost:8080/"
        },
        "id": "q4yuZF7nt9H_",
        "outputId": "5659850e-bf15-4ec8-d447-8aafe86e13a2"
      },
      "execution_count": 13,
      "outputs": [
        {
          "output_type": "stream",
          "name": "stdout",
          "text": [
            "2 4 6 8 10 12 14 16 18 \n",
            "3 6 9 12 15 18 21 24 27 \n",
            "4 8 12 16 20 24 28 32 36 \n",
            "5 10 15 20 25 30 35 40 45 \n",
            "6 12 18 24 30 36 42 48 54 \n",
            "7 14 21 28 35 42 49 56 63 \n",
            "8 16 24 32 40 48 56 64 72 \n",
            "9 18 27 36 45 54 63 72 81 \n"
          ]
        }
      ]
    },
    {
      "cell_type": "code",
      "source": [
        "num=int(input(\"Enter a number: \"))\n",
        "for i in range(1,10):\n",
        "  print (num,\"x\",i,\"=\",num*i)"
      ],
      "metadata": {
        "colab": {
          "base_uri": "https://localhost:8080/"
        },
        "id": "PncAkOqPvWcS",
        "outputId": "1c455c1c-bd5a-45be-bbdd-eb72976fe309"
      },
      "execution_count": 14,
      "outputs": [
        {
          "output_type": "stream",
          "name": "stdout",
          "text": [
            "Enter a number: 5\n",
            "5 x 1 = 5\n",
            "5 x 2 = 10\n",
            "5 x 3 = 15\n",
            "5 x 4 = 20\n",
            "5 x 5 = 25\n",
            "5 x 6 = 30\n",
            "5 x 7 = 35\n",
            "5 x 8 = 40\n",
            "5 x 9 = 45\n"
          ]
        }
      ]
    },
    {
      "cell_type": "code",
      "source": [
        "numbers=[1,2,3,4,5,6,7,8,9,10]\n",
        "squares=[x ** 2 for x in numbers if x % 2 == 0]\n",
        "print(squares)"
      ],
      "metadata": {
        "colab": {
          "base_uri": "https://localhost:8080/"
        },
        "id": "lb5s8Crkx_qR",
        "outputId": "429c7a3b-4a07-408e-89d8-7faf28fe3e3b"
      },
      "execution_count": 22,
      "outputs": [
        {
          "output_type": "stream",
          "name": "stdout",
          "text": [
            "[4, 16, 36, 64, 100]\n"
          ]
        }
      ]
    },
    {
      "cell_type": "code",
      "source": [
        "numbers=[1,2,3,4,5,]\n",
        "squared_numbers=[x**2 for x in numbers]\n",
        "print(squared_numbers)"
      ],
      "metadata": {
        "colab": {
          "base_uri": "https://localhost:8080/"
        },
        "id": "9QM_diwgyXlR",
        "outputId": "a40ef707-aeb5-41da-d99a-1b8aff583c3c"
      },
      "execution_count": 23,
      "outputs": [
        {
          "output_type": "stream",
          "name": "stdout",
          "text": [
            "[1, 4, 9, 16, 25]\n"
          ]
        }
      ]
    },
    {
      "cell_type": "code",
      "source": [
        "numbers=[1,2,3,4,5]\n",
        "odd_numbers=[x for x in numbers if x % 2 !=0]\n",
        "print(odd_numbers)"
      ],
      "metadata": {
        "colab": {
          "base_uri": "https://localhost:8080/"
        },
        "id": "OkcAmYOcyqj2",
        "outputId": "8e3f12b4-46f8-4957-b88a-f0bd6435e6c7"
      },
      "execution_count": 24,
      "outputs": [
        {
          "output_type": "stream",
          "name": "stdout",
          "text": [
            "[1, 3, 5]\n"
          ]
        }
      ]
    },
    {
      "cell_type": "code",
      "source": [
        "names=['Alice', 'Bob', 'Charlie']\n",
        "name_tuples=[(name, len(name)) for name in names]\n",
        "print(name_tuples)"
      ],
      "metadata": {
        "colab": {
          "base_uri": "https://localhost:8080/"
        },
        "id": "MRmYeMfhy3Qj",
        "outputId": "5809e429-bcc2-4048-fefd-a964a9d6f99c"
      },
      "execution_count": 29,
      "outputs": [
        {
          "output_type": "stream",
          "name": "stdout",
          "text": [
            "[('Alice', 5), ('Bob', 3), ('Charlie', 7)]\n"
          ]
        }
      ]
    },
    {
      "cell_type": "code",
      "source": [
        "a=[1,2,3,4,]\n",
        "result=[]\n",
        "for num in a:\n",
        "  result.append(num*3)\n",
        "print(result)"
      ],
      "metadata": {
        "colab": {
          "base_uri": "https://localhost:8080/"
        },
        "id": "Pwg8Dtqszdas",
        "outputId": "2beefb33-d65d-46bb-b200-f2ad929bde78"
      },
      "execution_count": 27,
      "outputs": [
        {
          "output_type": "stream",
          "name": "stdout",
          "text": [
            "[3, 6, 9, 12]\n"
          ]
        }
      ]
    },
    {
      "cell_type": "code",
      "source": [
        "a=[1,2,3,4]\n",
        "result=[num*3 for num in a]\n",
        "print(result)"
      ],
      "metadata": {
        "colab": {
          "base_uri": "https://localhost:8080/"
        },
        "id": "hyMfQP4MzwsI",
        "outputId": "231bf79e-ef4a-49e8-f1cf-a4745643955d"
      },
      "execution_count": 28,
      "outputs": [
        {
          "output_type": "stream",
          "name": "stdout",
          "text": [
            "[3, 6, 9, 12]\n"
          ]
        }
      ]
    },
    {
      "cell_type": "code",
      "source": [
        "matrix=[[1,2,3],[4,5,6],[7,8,9]]\n",
        "flattened=[element for row in matrix for element in row]\n",
        "print(flattened)"
      ],
      "metadata": {
        "colab": {
          "base_uri": "https://localhost:8080/"
        },
        "id": "tNdMm50W0CF0",
        "outputId": "21234010-a4fc-4f14-838e-3f4cd4b3dbe3"
      },
      "execution_count": 30,
      "outputs": [
        {
          "output_type": "stream",
          "name": "stdout",
          "text": [
            "[1, 2, 3, 4, 5, 6, 7, 8, 9]\n"
          ]
        }
      ]
    },
    {
      "cell_type": "code",
      "source": [
        "words=[\"hello\", \"world\", \"python\"]\n",
        "upper_words=[word.upper() for word in words]\n",
        "print(upper_words)"
      ],
      "metadata": {
        "colab": {
          "base_uri": "https://localhost:8080/"
        },
        "id": "vURz0Fnp0TS9",
        "outputId": "70671d80-6344-4355-8bd5-016c20b79e9d"
      },
      "execution_count": 31,
      "outputs": [
        {
          "output_type": "stream",
          "name": "stdout",
          "text": [
            "['HELLO', 'WORLD', 'PYTHON']\n"
          ]
        }
      ]
    },
    {
      "cell_type": "code",
      "source": [
        "result=[x*y for x in range(2,10)   for y in range (1,10)]\n",
        "print(result)"
      ],
      "metadata": {
        "colab": {
          "base_uri": "https://localhost:8080/"
        },
        "id": "-tex-REf0g83",
        "outputId": "99fdbe00-50de-48ae-8e1f-5602e813bced"
      },
      "execution_count": 33,
      "outputs": [
        {
          "output_type": "stream",
          "name": "stdout",
          "text": [
            "[2, 4, 6, 8, 10, 12, 14, 16, 18, 3, 6, 9, 12, 15, 18, 21, 24, 27, 4, 8, 12, 16, 20, 24, 28, 32, 36, 5, 10, 15, 20, 25, 30, 35, 40, 45, 6, 12, 18, 24, 30, 36, 42, 48, 54, 7, 14, 21, 28, 35, 42, 49, 56, 63, 8, 16, 24, 32, 40, 48, 56, 64, 72, 9, 18, 27, 36, 45, 54, 63, 72, 81]\n"
          ]
        }
      ]
    },
    {
      "cell_type": "code",
      "source": [
        "treehit=0\n",
        "while treehit<10:\n",
        "  treehit=treehit+1\n",
        "  print(\"나무를 %d번 찍었습니다.\" % treehit)\n",
        "  if treehit== 10:\n",
        "    print(\"나무 넘어갑니다.\")"
      ],
      "metadata": {
        "colab": {
          "base_uri": "https://localhost:8080/"
        },
        "id": "Zfie4zWj1SR7",
        "outputId": "acfa1e57-459d-4951-8c9e-d8e06db21284"
      },
      "execution_count": 34,
      "outputs": [
        {
          "output_type": "stream",
          "name": "stdout",
          "text": [
            "나무를 1번 찍었습니다.\n",
            "나무를 2번 찍었습니다.\n",
            "나무를 3번 찍었습니다.\n",
            "나무를 4번 찍었습니다.\n",
            "나무를 5번 찍었습니다.\n",
            "나무를 6번 찍었습니다.\n",
            "나무를 7번 찍었습니다.\n",
            "나무를 8번 찍었습니다.\n",
            "나무를 9번 찍었습니다.\n",
            "나무를 10번 찍었습니다.\n",
            "나무 넘어갑니다.\n"
          ]
        }
      ]
    },
    {
      "cell_type": "code",
      "source": [
        "i=1\n",
        "while i<= 10:\n",
        "  print(i)\n",
        "  i += 1"
      ],
      "metadata": {
        "colab": {
          "base_uri": "https://localhost:8080/"
        },
        "id": "nBVUtO3l1v3V",
        "outputId": "6f5ceea2-20e5-44eb-9935-2fe9fd440b75"
      },
      "execution_count": 35,
      "outputs": [
        {
          "output_type": "stream",
          "name": "stdout",
          "text": [
            "1\n",
            "2\n",
            "3\n",
            "4\n",
            "5\n",
            "6\n",
            "7\n",
            "8\n",
            "9\n",
            "10\n"
          ]
        }
      ]
    },
    {
      "cell_type": "code",
      "source": [
        "sum=0\n",
        "i=1\n",
        "while i <= 100:\n",
        "  sum += i\n",
        "  i += 1\n",
        "print(\"The sum of numbers from 1 to 100 is:\", sum)"
      ],
      "metadata": {
        "colab": {
          "base_uri": "https://localhost:8080/"
        },
        "id": "-uHRg_1H15LW",
        "outputId": "0b836396-baf1-4e48-a58a-6179024f5f1c"
      },
      "execution_count": 36,
      "outputs": [
        {
          "output_type": "stream",
          "name": "stdout",
          "text": [
            "The sum of numbers from 1 to 100 is: 5050\n"
          ]
        }
      ]
    },
    {
      "cell_type": "code",
      "source": [
        "numbers=[]\n",
        "num=int(input(\"Enter a number:\"))\n",
        "while num>=0:\n",
        "  numbers.append(num)\n",
        "  num= int(input(\"Enter another number:\"))\n",
        "print(\"The numbers enetered by the user are:\", numbers)"
      ],
      "metadata": {
        "colab": {
          "base_uri": "https://localhost:8080/"
        },
        "id": "roEKMspr2Yay",
        "outputId": "4a10ea0b-8d46-4648-c44c-98627f36f628"
      },
      "execution_count": 37,
      "outputs": [
        {
          "output_type": "stream",
          "name": "stdout",
          "text": [
            "Enter a number:9\n",
            "Enter another number:8\n",
            "Enter another number:-7\n",
            "The numbers enetered by the user are: [9, 8]\n"
          ]
        }
      ]
    },
    {
      "cell_type": "code",
      "source": [
        "string=\"hello\"\n",
        "i=len(string)-1\n",
        "while i>=0:\n",
        "  print(string[i], end=\"\")\n",
        "  i-= 1"
      ],
      "metadata": {
        "colab": {
          "base_uri": "https://localhost:8080/"
        },
        "id": "UyTkCaNI3QqZ",
        "outputId": "b295ac07-7656-4144-9ae5-e726f74b8b76"
      },
      "execution_count": 38,
      "outputs": [
        {
          "output_type": "stream",
          "name": "stdout",
          "text": [
            "olleh"
          ]
        }
      ]
    },
    {
      "cell_type": "code",
      "source": [
        "num=123456\n",
        "count=0\n",
        "while num != 0:\n",
        "  count += 1\n",
        "  num//=10\n",
        "  print(num)\n",
        "print(count)"
      ],
      "metadata": {
        "colab": {
          "base_uri": "https://localhost:8080/"
        },
        "id": "P6lFteFP3edn",
        "outputId": "5b4cec2c-73a4-487d-952e-af15c1dddc38"
      },
      "execution_count": 39,
      "outputs": [
        {
          "output_type": "stream",
          "name": "stdout",
          "text": [
            "12345\n",
            "1234\n",
            "123\n",
            "12\n",
            "1\n",
            "0\n",
            "6\n"
          ]
        }
      ]
    },
    {
      "cell_type": "code",
      "source": [
        "x=2\n",
        "if x> 5:\n",
        "  pass\n",
        "else:\n",
        "  print(\"x is less than or equal to 5\")"
      ],
      "metadata": {
        "colab": {
          "base_uri": "https://localhost:8080/"
        },
        "id": "XQL4Ga0i4TeX",
        "outputId": "064370e2-07fe-4afe-88e9-dece1daec6fb"
      },
      "execution_count": 42,
      "outputs": [
        {
          "output_type": "stream",
          "name": "stdout",
          "text": [
            "x is less than or equal to 5\n"
          ]
        }
      ]
    },
    {
      "cell_type": "code",
      "source": [
        "for i in range(10):\n",
        "  if i == 5:\n",
        "   break\n",
        "  print(i)"
      ],
      "metadata": {
        "colab": {
          "base_uri": "https://localhost:8080/"
        },
        "id": "6JwUtgyU4m2A",
        "outputId": "62a3cfb9-40fb-41b8-c0a2-eea95346c597"
      },
      "execution_count": 45,
      "outputs": [
        {
          "output_type": "stream",
          "name": "stdout",
          "text": [
            "0\n",
            "1\n",
            "2\n",
            "3\n",
            "4\n"
          ]
        }
      ]
    },
    {
      "cell_type": "code",
      "source": [
        "for i in range(10):\n",
        "  if i == 5:\n",
        "    continue\n",
        "  print(i)"
      ],
      "metadata": {
        "colab": {
          "base_uri": "https://localhost:8080/"
        },
        "id": "PPZLEmQX4y5H",
        "outputId": "9ba6e476-05fc-4f46-a098-42dbce0e7459"
      },
      "execution_count": 46,
      "outputs": [
        {
          "output_type": "stream",
          "name": "stdout",
          "text": [
            "0\n",
            "1\n",
            "2\n",
            "3\n",
            "4\n",
            "6\n",
            "7\n",
            "8\n",
            "9\n"
          ]
        }
      ]
    },
    {
      "cell_type": "code",
      "source": [
        "numbers=[2,3,-1,4,-5,6]\n",
        "index= None\n",
        "for i in range(len(numbers)):\n",
        "  if numbers[i]<0:\n",
        "    index=i\n",
        "    break\n",
        "if index is not None:\n",
        "  print(f\"The first negative number is at index {index}.\")\n",
        "else:\n",
        "  print(\"There are no negative numbers in the list.\")"
      ],
      "metadata": {
        "colab": {
          "base_uri": "https://localhost:8080/"
        },
        "id": "wzxHrq795CKw",
        "outputId": "74f8973c-7503-4416-a42f-68c106e55c15"
      },
      "execution_count": 47,
      "outputs": [
        {
          "output_type": "stream",
          "name": "stdout",
          "text": [
            "The first negative number is at index 2.\n"
          ]
        }
      ]
    }
  ]
}
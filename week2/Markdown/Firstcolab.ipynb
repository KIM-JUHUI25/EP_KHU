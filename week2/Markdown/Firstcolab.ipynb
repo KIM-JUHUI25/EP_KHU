{
  "nbformat": 4,
  "nbformat_minor": 0,
  "metadata": {
    "colab": {
      "provenance": [],
      "authorship_tag": "ABX9TyOiG8WPRLRHIQoS6DA3pxZ6",
      "include_colab_link": true
    },
    "kernelspec": {
      "name": "python3",
      "display_name": "Python 3"
    },
    "language_info": {
      "name": "python"
    },
    "gpuClass": "standard"
  },
  "cells": [
    {
      "cell_type": "markdown",
      "metadata": {
        "id": "view-in-github",
        "colab_type": "text"
      },
      "source": [
        "<a href=\"https://colab.research.google.com/github/KIM-JUHUI25/EP_KHU/blob/main/week2/Markdown/Firstcolab.ipynb\" target=\"_parent\"><img src=\"https://colab.research.google.com/assets/colab-badge.svg\" alt=\"Open In Colab\"/></a>"
      ]
    },
    {
      "cell_type": "markdown",
      "source": [
        "1.This is no.1\n",
        "\n",
        "# Heading 1\n",
        "## Heading 2\n",
        "### Heading 3\n"
      ],
      "metadata": {
        "id": "inxgb4kbgsmB"
      }
    },
    {
      "cell_type": "markdown",
      "source": [
        "# Heading 2"
      ],
      "metadata": {
        "id": "UuiLdtMrhQ_U"
      }
    },
    {
      "cell_type": "markdown",
      "source": [
        "2.**bold** example"
      ],
      "metadata": {
        "id": "4NwcZ48uhkIP"
      }
    },
    {
      "cell_type": "markdown",
      "source": [
        "3. lists\n",
        "- Item1\n",
        "- Item2\n",
        "\n",
        "1. main point 1\n",
        "  - sub 1\n",
        "  - sub 2\n",
        "  "
      ],
      "metadata": {
        "id": "32SQKoszh2Cs"
      }
    },
    {
      "cell_type": "markdown",
      "source": [
        "4. Link\n",
        "\n",
        "this is a [Link](https://www.youtube.com/)\n"
      ],
      "metadata": {
        "id": "VZA5CK8Nie9x"
      }
    },
    {
      "cell_type": "markdown",
      "source": [
        "5. Image \n",
        "![This is KYK](https://encrypted-tbn0.gstatic.com/images?q=tbn:ANd9GcSMnEcrAFLMf_m95oAHf_12RmknmAdzWZgRqg&usqp=CAU)"
      ],
      "metadata": {
        "id": "wmQyYhcBi9Sc"
      }
    },
    {
      "cell_type": "markdown",
      "source": [
        "6. Code block\n",
        "\n",
        "```python\n",
        "print(\"Hello World\")\n"
      ],
      "metadata": {
        "id": "OiKml-WRj36h"
      }
    },
    {
      "cell_type": "markdown",
      "source": [
        "7. Table\n",
        "\n",
        "| Name | Age | Gender |\n",
        "|------|-----|--------|\n",
        "| Alice|25   |Female  |"
      ],
      "metadata": {
        "id": "8fJ26iBmklz6"
      }
    },
    {
      "cell_type": "markdown",
      "source": [
        "8. Creating a blockquote:\n",
        "> \"this is an example\" - ABC"
      ],
      "metadata": {
        "id": "DbxrWHqClJvp"
      }
    },
    {
      "cell_type": "markdown",
      "source": [
        "9. Creating a horizontal rule:\n",
        "---\n",
        "***\n",
        "___"
      ],
      "metadata": {
        "id": "4Vb8btjJlXqi"
      }
    },
    {
      "cell_type": "markdown",
      "source": [
        "10. equation\n",
        "$E=mc^2$\n",
        "\n",
        "\\[E=mc^2\\]\n"
      ],
      "metadata": {
        "id": "zuLRWXwklg-l"
      }
    },
    {
      "cell_type": "markdown",
      "source": [
        "$$\\sum_{i=1}^{n} i=\\frac{n(n+1)}{2}$$\n"
      ],
      "metadata": {
        "id": "bKscElvsl56I"
      }
    }
  ]
}
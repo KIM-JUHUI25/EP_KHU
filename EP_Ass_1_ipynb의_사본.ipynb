{
  "nbformat": 4,
  "nbformat_minor": 0,
  "metadata": {
    "colab": {
      "provenance": [],
      "include_colab_link": true
    },
    "kernelspec": {
      "name": "python3",
      "display_name": "Python 3"
    },
    "language_info": {
      "name": "python"
    }
  },
  "cells": [
    {
      "cell_type": "markdown",
      "metadata": {
        "id": "view-in-github",
        "colab_type": "text"
      },
      "source": [
        "<a href=\"https://colab.research.google.com/github/KIM-JUHUI25/EP_KHU/blob/main/EP_Ass_1_ipynb%EC%9D%98_%EC%82%AC%EB%B3%B8.ipynb\" target=\"_parent\"><img src=\"https://colab.research.google.com/assets/colab-badge.svg\" alt=\"Open In Colab\"/></a>"
      ]
    },
    {
      "cell_type": "markdown",
      "source": [
        "# This is Assignment #1 of \"Introduction to Engineering Computer Programming\""
      ],
      "metadata": {
        "id": "ExW3fDnx20Fd"
      }
    },
    {
      "cell_type": "markdown",
      "source": [
        "1. Write a function called `find_largest` that takes a list of integers as input and returns the largest integer in the list. Test your function with a list of integers, `a = [1, 5, 8, 2, 9, 10, 4]`.\n",
        "\n",
        "* hint: use `max` function"
      ],
      "metadata": {
        "id": "bXHCcMMmu9Dl"
      }
    },
    {
      "cell_type": "code",
      "source": [
        "def find_largest(a):\n",
        "  print(max(a))\n",
        "a=[1,5,8,2,9,10,4]\n",
        "    \n",
        "find_largest(a)"
      ],
      "metadata": {
        "id": "WQct1xF2vXq-",
        "colab": {
          "base_uri": "https://localhost:8080/"
        },
        "outputId": "f6a9b16e-e664-4938-e35b-ef43ee5a08f4"
      },
      "execution_count": 83,
      "outputs": [
        {
          "output_type": "stream",
          "name": "stdout",
          "text": [
            "10\n"
          ]
        }
      ]
    },
    {
      "cell_type": "markdown",
      "source": [
        "2. Write a function called `count_vowels` that takes a string as input and returns the count of vowels (a, e, i, o, u) in the string. Test your function with `\"Hello World!\"`\n",
        "\n",
        "* hint: use `for` and `if`"
      ],
      "metadata": {
        "id": "7eVyT1ypvQm5"
      }
    },
    {
      "cell_type": "code",
      "execution_count": 20,
      "metadata": {
        "id": "9Q8h2B45u4d6",
        "colab": {
          "base_uri": "https://localhost:8080/",
          "height": 136
        },
        "outputId": "724cc382-ad86-4145-bae8-4cad2fb716aa"
      },
      "outputs": [
        {
          "output_type": "error",
          "ename": "IndentationError",
          "evalue": "ignored",
          "traceback": [
            "\u001b[0;36m  File \u001b[0;32m\"<ipython-input-20-c307733c962a>\"\u001b[0;36m, line \u001b[0;32m5\u001b[0m\n\u001b[0;31m    return len(vowels)\u001b[0m\n\u001b[0m    ^\u001b[0m\n\u001b[0;31mIndentationError\u001b[0m\u001b[0;31m:\u001b[0m expected an indented block\n"
          ]
        }
      ],
      "source": [
        "def count_vowels(a):\n",
        "  vowels=('a','e','i','o','u')\n",
        "  for str in a:\n",
        "    if vowels in a:\n",
        "  return len(vowels) \n",
        "\n",
        "\n",
        "print(count_vowels(\"Hello World!\"))\n",
        "\n",
        " "
      ]
    },
    {
      "cell_type": "markdown",
      "source": [
        "3. Write a function called `convert_temperature` that takes a temperature value in Fahrenheit and converts it to Celsius. The function should return the converted temperature value. Test your function with different Fahrenheit values.\n",
        "\n",
        "* hint: `celsius = (fahrenheit - 32) * 5 / 9`"
      ],
      "metadata": {
        "id": "tBgqsqLpvomE"
      }
    },
    {
      "cell_type": "code",
      "source": [
        "def convert_temperature(a):\n",
        "     return (a-32)*5/9\n",
        "\n",
        "print(convert_temperature(55))"
      ],
      "metadata": {
        "id": "XhRFdMAGv6Om",
        "colab": {
          "base_uri": "https://localhost:8080/"
        },
        "outputId": "adc6a234-6f3d-43fd-91b7-443c2750820e"
      },
      "execution_count": 29,
      "outputs": [
        {
          "output_type": "stream",
          "name": "stdout",
          "text": [
            "12.777777777777779\n"
          ]
        }
      ]
    },
    {
      "cell_type": "markdown",
      "source": [
        "4. Write a function called grade_calculator that takes a list of student scores as input and returns a list of letter grades (A, B, C, D, or F) based on the following criteria:\n",
        "\n",
        " * A: 90-100\n",
        " * B: 80-89\n",
        " * C: 70-79\n",
        " * D: 60-69\n",
        " * F: 0-59\n",
        "\n",
        "Test your function with a list of student scores, `scores = [85, 92, 75, 60, 45]`.\n",
        "\n",
        " * hint: use `if`, `elif`, and `else`"
      ],
      "metadata": {
        "id": "Ax2N-gBvw6gk"
      }
    },
    {
      "cell_type": "code",
      "source": [
        "def grade_calculator(score):\n",
        " if 90<score<100:\n",
        "  print(\"A\")\n",
        " elif 80<score<89:\n",
        "  print(\"B\")\n",
        " elif 70<score<79:\n",
        "  print(\"C\")\n",
        " elif 60<score<69:\n",
        "  print(\"D\")\n",
        " elif 0<score<59:\n",
        "  print(\"F\")\n",
        " else:\n",
        "  print(\"Fuck YOU\")\n",
        "\n",
        "\n",
        "\n",
        "print(grade_calculator(85))\n"
      ],
      "metadata": {
        "id": "GDEi8iL7w4ee",
        "colab": {
          "base_uri": "https://localhost:8080/"
        },
        "outputId": "03c90ef9-cd79-4c3d-b4a9-8fffa05ec8ee"
      },
      "execution_count": 37,
      "outputs": [
        {
          "output_type": "stream",
          "name": "stdout",
          "text": [
            "B\n",
            "None\n"
          ]
        }
      ]
    },
    {
      "cell_type": "markdown",
      "source": [
        "5. Write a function called `common_elements` that takes two lists as input and returns a list of the common elements (without duplicates) between the two lists. Test your function with two different pairs of lists, `[1, 3, 5, 7, 9]` and `[2, 3, 4, 5, 6]`.\n",
        "\n",
        "* hint: use `set` and `&`"
      ],
      "metadata": {
        "id": "kSk4V_j4ykJP"
      }
    },
    {
      "cell_type": "code",
      "source": [
        "def common_elements(a,b):\n",
        "    a=set, b=set\n",
        "    return a&b\n",
        "\n",
        "print(common_elements([1,3,5,7,9],[2,3,4,5,6]))"
      ],
      "metadata": {
        "id": "KpO2_1bNyjlD",
        "colab": {
          "base_uri": "https://localhost:8080/",
          "height": 336
        },
        "outputId": "5cedbe8f-5fbb-4dd3-a26a-d3c0592c4e1d"
      },
      "execution_count": 46,
      "outputs": [
        {
          "output_type": "error",
          "ename": "UnboundLocalError",
          "evalue": "ignored",
          "traceback": [
            "\u001b[0;31m---------------------------------------------------------------------------\u001b[0m",
            "\u001b[0;31mUnboundLocalError\u001b[0m                         Traceback (most recent call last)",
            "\u001b[0;32m<ipython-input-46-15ff6ab2a2d4>\u001b[0m in \u001b[0;36m<cell line: 5>\u001b[0;34m()\u001b[0m\n\u001b[1;32m      3\u001b[0m     \u001b[0;32mreturn\u001b[0m \u001b[0ma\u001b[0m \u001b[0;34m&\u001b[0m \u001b[0mb\u001b[0m\u001b[0;34m\u001b[0m\u001b[0;34m\u001b[0m\u001b[0m\n\u001b[1;32m      4\u001b[0m \u001b[0;34m\u001b[0m\u001b[0m\n\u001b[0;32m----> 5\u001b[0;31m \u001b[0mprint\u001b[0m\u001b[0;34m(\u001b[0m\u001b[0mcommon_elements\u001b[0m\u001b[0;34m(\u001b[0m\u001b[0;34m[\u001b[0m\u001b[0;36m1\u001b[0m\u001b[0;34m,\u001b[0m\u001b[0;36m3\u001b[0m\u001b[0;34m,\u001b[0m\u001b[0;36m5\u001b[0m\u001b[0;34m,\u001b[0m\u001b[0;36m7\u001b[0m\u001b[0;34m,\u001b[0m\u001b[0;36m9\u001b[0m\u001b[0;34m]\u001b[0m\u001b[0;34m,\u001b[0m\u001b[0;34m[\u001b[0m\u001b[0;36m2\u001b[0m\u001b[0;34m,\u001b[0m\u001b[0;36m3\u001b[0m\u001b[0;34m,\u001b[0m\u001b[0;36m4\u001b[0m\u001b[0;34m,\u001b[0m\u001b[0;36m5\u001b[0m\u001b[0;34m,\u001b[0m\u001b[0;36m6\u001b[0m\u001b[0;34m]\u001b[0m\u001b[0;34m)\u001b[0m\u001b[0;34m)\u001b[0m\u001b[0;34m\u001b[0m\u001b[0;34m\u001b[0m\u001b[0m\n\u001b[0m",
            "\u001b[0;32m<ipython-input-46-15ff6ab2a2d4>\u001b[0m in \u001b[0;36mcommon_elements\u001b[0;34m(a, b)\u001b[0m\n\u001b[1;32m      1\u001b[0m \u001b[0;32mdef\u001b[0m \u001b[0mcommon_elements\u001b[0m\u001b[0;34m(\u001b[0m\u001b[0ma\u001b[0m\u001b[0;34m,\u001b[0m\u001b[0mb\u001b[0m\u001b[0;34m)\u001b[0m\u001b[0;34m:\u001b[0m\u001b[0;34m\u001b[0m\u001b[0;34m\u001b[0m\u001b[0m\n\u001b[0;32m----> 2\u001b[0;31m     \u001b[0ma\u001b[0m\u001b[0;34m=\u001b[0m\u001b[0mset\u001b[0m\u001b[0;34m,\u001b[0m \u001b[0mb\u001b[0m\u001b[0;34m=\u001b[0m\u001b[0mset\u001b[0m\u001b[0;34m\u001b[0m\u001b[0;34m\u001b[0m\u001b[0m\n\u001b[0m\u001b[1;32m      3\u001b[0m     \u001b[0;32mreturn\u001b[0m \u001b[0ma\u001b[0m \u001b[0;34m&\u001b[0m \u001b[0mb\u001b[0m\u001b[0;34m\u001b[0m\u001b[0;34m\u001b[0m\u001b[0m\n\u001b[1;32m      4\u001b[0m \u001b[0;34m\u001b[0m\u001b[0m\n\u001b[1;32m      5\u001b[0m \u001b[0mprint\u001b[0m\u001b[0;34m(\u001b[0m\u001b[0mcommon_elements\u001b[0m\u001b[0;34m(\u001b[0m\u001b[0;34m[\u001b[0m\u001b[0;36m1\u001b[0m\u001b[0;34m,\u001b[0m\u001b[0;36m3\u001b[0m\u001b[0;34m,\u001b[0m\u001b[0;36m5\u001b[0m\u001b[0;34m,\u001b[0m\u001b[0;36m7\u001b[0m\u001b[0;34m,\u001b[0m\u001b[0;36m9\u001b[0m\u001b[0;34m]\u001b[0m\u001b[0;34m,\u001b[0m\u001b[0;34m[\u001b[0m\u001b[0;36m2\u001b[0m\u001b[0;34m,\u001b[0m\u001b[0;36m3\u001b[0m\u001b[0;34m,\u001b[0m\u001b[0;36m4\u001b[0m\u001b[0;34m,\u001b[0m\u001b[0;36m5\u001b[0m\u001b[0;34m,\u001b[0m\u001b[0;36m6\u001b[0m\u001b[0;34m]\u001b[0m\u001b[0;34m)\u001b[0m\u001b[0;34m)\u001b[0m\u001b[0;34m\u001b[0m\u001b[0;34m\u001b[0m\u001b[0m\n",
            "\u001b[0;31mUnboundLocalError\u001b[0m: local variable 'set' referenced before assignment"
          ]
        }
      ]
    },
    {
      "cell_type": "markdown",
      "source": [
        "6. Write a Python to check if a given number is even or odd using control statements.\n",
        "\n",
        "* hint: use `num % 2 == 0`"
      ],
      "metadata": {
        "id": "ntSpzCg62pfl"
      }
    },
    {
      "cell_type": "code",
      "source": [
        "number=int(input(\"Write a number: \"))\n",
        "if number%2==0: \n",
        " print(\"Even number\")\n",
        "else: \n",
        " print(\"Odd number\")\n"
      ],
      "metadata": {
        "id": "R_NvgRrj3RKW",
        "colab": {
          "base_uri": "https://localhost:8080/"
        },
        "outputId": "3e3b4728-e135-48e9-d51e-fbf325b5dee1"
      },
      "execution_count": 49,
      "outputs": [
        {
          "output_type": "stream",
          "name": "stdout",
          "text": [
            "Write a number: 7\n",
            "Odd number\n"
          ]
        }
      ]
    },
    {
      "cell_type": "markdown",
      "source": [
        "7. Write a Python program to find the sum of all elements in a list using loops. Test your program with a list, `numbers = [10, 20, 30, 40, 50]`.\n",
        "\n",
        "* hint: use `for` and `+=`"
      ],
      "metadata": {
        "id": "WBogUGrf3giN"
      }
    },
    {
      "cell_type": "code",
      "source": [
        "def sum_numbers(*args):\n",
        "  total=0\n",
        "  for num in args:\n",
        "    total += num\n",
        "  return total\n",
        "\n",
        "print(sum_numbers(10,20,30,40,50))"
      ],
      "metadata": {
        "id": "30e3ku5t31ik",
        "colab": {
          "base_uri": "https://localhost:8080/"
        },
        "outputId": "2cdd6fe6-26bf-4fce-9740-eb23dfd6b6d2"
      },
      "execution_count": 50,
      "outputs": [
        {
          "output_type": "stream",
          "name": "stdout",
          "text": [
            "150\n"
          ]
        }
      ]
    },
    {
      "cell_type": "markdown",
      "source": [
        "8. Write a Python program to find the number of digits (자릿수) in a given integer using functions.\n",
        "\n",
        "* hint: for a given integer `num`, use the following code.\n",
        "    \n",
        "```python\n",
        "    while num != 0:\n",
        "        count += 1\n",
        "        num //= 10\n",
        "    return count\n",
        "```\n",
        "* `//` is for Floor division (나눗셈의 몫을 내림, 예 7 // 2 = 3)"
      ],
      "metadata": {
        "id": "EUJQSZCv4c35"
      }
    },
    {
      "cell_type": "code",
      "source": [
        "def number_digits(a):\n",
        "  count=0\n",
        "  while a!=0:\n",
        "   count+=1\n",
        "   a//=10\n",
        "  return count\n",
        "\n",
        "print(number_digits(123324))  "
      ],
      "metadata": {
        "id": "x7dsB2PZ4L_T",
        "colab": {
          "base_uri": "https://localhost:8080/"
        },
        "outputId": "2683eb65-b684-4a6e-a4e4-b971b620a188"
      },
      "execution_count": 65,
      "outputs": [
        {
          "output_type": "stream",
          "name": "stdout",
          "text": [
            "6\n"
          ]
        }
      ]
    },
    {
      "cell_type": "markdown",
      "source": [
        "9. Complete the following Python program to reverse a given string using loops.\n",
        "\n",
        "* hint: read each character from the string by using `for` and add (`+`) one by one in sequence."
      ],
      "metadata": {
        "id": "lWHVIEjOA3bV"
      }
    },
    {
      "cell_type": "code",
      "source": [
        "string = input(\"Enter a string: \")\n",
        "reverse = \"\"\n",
        "for char in string:\n",
        "    i=len(string)-1\n",
        "    while i>=0:\n",
        "      print(string[i],end=\"\")\n",
        "      i-=1\n",
        "\n",
        "    \n",
        "print(\"Reverse of the string:\", reverse)"
      ],
      "metadata": {
        "id": "3qBhrc1wBj2T",
        "colab": {
          "base_uri": "https://localhost:8080/"
        },
        "outputId": "558b44c2-1aad-4c37-cbe5-8d7cd9e83d27"
      },
      "execution_count": 68,
      "outputs": [
        {
          "output_type": "stream",
          "name": "stdout",
          "text": [
            "Enter a string: ask\n",
            "ksaksaksaReverse of the string: \n"
          ]
        }
      ]
    },
    {
      "cell_type": "markdown",
      "source": [
        "10. Write a function called `is_perfect_square` that check if a given number is a perfect square (완전제곱수) or not. Test your function with different numbers.\n",
        "\n",
        "* hint: use `sqrt` (제곱근) from `math` and check if the number has decimal points or not."
      ],
      "metadata": {
        "id": "6V5Fma7PCUMd"
      }
    },
    {
      "cell_type": "code",
      "source": [
        "import math\n",
        "\n",
        "def is_perfect_square(num):\n",
        "    sqrt = math.sqrt(num)\n",
        "    if sqrt.is_integer():\n",
        "        print(\"완전제곱수 입니다.\")\n",
        "    else: \n",
        "        print(\"완전제곱수가 아닙니다\")\n",
        "\n",
        "is_perfect_square(4)    "
      ],
      "metadata": {
        "id": "uzrOFUHEDdE2",
        "colab": {
          "base_uri": "https://localhost:8080/"
        },
        "outputId": "32c71e5d-6440-486c-982d-ee806b580e03"
      },
      "execution_count": 82,
      "outputs": [
        {
          "output_type": "stream",
          "name": "stdout",
          "text": [
            "완전제곱수 입니다.\n"
          ]
        }
      ]
    }
  ]
}
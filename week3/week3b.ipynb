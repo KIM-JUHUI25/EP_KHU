{
  "nbformat": 4,
  "nbformat_minor": 0,
  "metadata": {
    "colab": {
      "provenance": [],
      "authorship_tag": "ABX9TyPo1gatnkqiW8xLEXJGIsOm",
      "include_colab_link": true
    },
    "kernelspec": {
      "name": "python3",
      "display_name": "Python 3"
    },
    "language_info": {
      "name": "python"
    }
  },
  "cells": [
    {
      "cell_type": "markdown",
      "metadata": {
        "id": "view-in-github",
        "colab_type": "text"
      },
      "source": [
        "<a href=\"https://colab.research.google.com/github/KIM-JUHUI25/EP_KHU/blob/main/week3/week3b.ipynb\" target=\"_parent\"><img src=\"https://colab.research.google.com/assets/colab-badge.svg\" alt=\"Open In Colab\"/></a>"
      ]
    },
    {
      "cell_type": "code",
      "execution_count": 53,
      "metadata": {
        "colab": {
          "base_uri": "https://localhost:8080/",
          "height": 136
        },
        "id": "C3lPlaR94LDo",
        "outputId": "6e7290f6-aea1-407c-c3d9-9e99f6cdc239"
      },
      "outputs": [
        {
          "output_type": "error",
          "ename": "IndentationError",
          "evalue": "ignored",
          "traceback": [
            "\u001b[0;36m  File \u001b[0;32m\"<ipython-input-53-669c0ad4e147>\"\u001b[0;36m, line \u001b[0;32m2\u001b[0m\n\u001b[0;31m    t1[0] = 'c'\u001b[0m\n\u001b[0m    ^\u001b[0m\n\u001b[0;31mIndentationError\u001b[0m\u001b[0;31m:\u001b[0m unexpected indent\n"
          ]
        }
      ],
      "source": [
        "t1 = (1, 2, 'a', 'b')\n",
        "f t1[0] = 'c'"
      ]
    },
    {
      "cell_type": "code",
      "source": [
        ">>> t1 = (1, 2, 'a', 'b')\n",
        ">>> del t1[0]"
      ],
      "metadata": {
        "colab": {
          "base_uri": "https://localhost:8080/",
          "height": 190
        },
        "id": "Eiu_ihYw7Tz2",
        "outputId": "c4eb362c-4aec-4333-c7b3-ae5c5f260aae"
      },
      "execution_count": 7,
      "outputs": [
        {
          "output_type": "error",
          "ename": "TypeError",
          "evalue": "ignored",
          "traceback": [
            "\u001b[0;31m---------------------------------------------------------------------------\u001b[0m",
            "\u001b[0;31mTypeError\u001b[0m                                 Traceback (most recent call last)",
            "\u001b[0;32m<ipython-input-7-f66ca102cafc>\u001b[0m in \u001b[0;36m<module>\u001b[0;34m\u001b[0m\n\u001b[1;32m      1\u001b[0m \u001b[0mt1\u001b[0m \u001b[0;34m=\u001b[0m \u001b[0;34m(\u001b[0m\u001b[0;36m1\u001b[0m\u001b[0;34m,\u001b[0m \u001b[0;36m2\u001b[0m\u001b[0;34m,\u001b[0m \u001b[0;34m'a'\u001b[0m\u001b[0;34m,\u001b[0m \u001b[0;34m'b'\u001b[0m\u001b[0;34m)\u001b[0m\u001b[0;34m\u001b[0m\u001b[0;34m\u001b[0m\u001b[0m\n\u001b[0;32m----> 2\u001b[0;31m \u001b[0;32mdel\u001b[0m \u001b[0mt1\u001b[0m\u001b[0;34m[\u001b[0m\u001b[0;36m0\u001b[0m\u001b[0;34m]\u001b[0m\u001b[0;34m\u001b[0m\u001b[0;34m\u001b[0m\u001b[0m\n\u001b[0m",
            "\u001b[0;31mTypeError\u001b[0m: 'tuple' object doesn't support item deletion"
          ]
        }
      ]
    },
    {
      "cell_type": "code",
      "source": [
        ">>> t1 = (1, 2, 'a', 'b')\n",
        ">>> t1[0]"
      ],
      "metadata": {
        "colab": {
          "base_uri": "https://localhost:8080/"
        },
        "id": "pfzu1i5I7y2l",
        "outputId": "f371e975-f407-4b30-860c-c7f48d6d7ad3"
      },
      "execution_count": 8,
      "outputs": [
        {
          "output_type": "execute_result",
          "data": {
            "text/plain": [
              "1"
            ]
          },
          "metadata": {},
          "execution_count": 8
        }
      ]
    },
    {
      "cell_type": "code",
      "source": [
        ">>> t1 = (1, 2, 'a', 'b')\n",
        ">>> t1[1:]"
      ],
      "metadata": {
        "colab": {
          "base_uri": "https://localhost:8080/"
        },
        "id": "D6FuEo_M8OUr",
        "outputId": "5d11b085-fa20-4839-b5a8-767613834ac9"
      },
      "execution_count": 9,
      "outputs": [
        {
          "output_type": "execute_result",
          "data": {
            "text/plain": [
              "(2, 'a', 'b')"
            ]
          },
          "metadata": {},
          "execution_count": 9
        }
      ]
    },
    {
      "cell_type": "code",
      "source": [
        ">>> t1 = (1, 2, 'a', 'b')\n",
        ">>> len(t1)"
      ],
      "metadata": {
        "colab": {
          "base_uri": "https://localhost:8080/"
        },
        "id": "hXWxODKj8Unn",
        "outputId": "86bf3ee0-1688-46c5-ff44-a2947ccbb2ac"
      },
      "execution_count": 10,
      "outputs": [
        {
          "output_type": "execute_result",
          "data": {
            "text/plain": [
              "4"
            ]
          },
          "metadata": {},
          "execution_count": 10
        }
      ]
    },
    {
      "cell_type": "code",
      "source": [
        ">>> t2 = (3, 4)\n",
        ">>> t1 + t2 "
      ],
      "metadata": {
        "colab": {
          "base_uri": "https://localhost:8080/"
        },
        "id": "TlYffo0V8XsU",
        "outputId": "263a0274-aed1-4df4-9da0-5d612ef15d52"
      },
      "execution_count": 11,
      "outputs": [
        {
          "output_type": "execute_result",
          "data": {
            "text/plain": [
              "(1, 2, 'a', 'b', 3, 4)"
            ]
          },
          "metadata": {},
          "execution_count": 11
        }
      ]
    },
    {
      "cell_type": "code",
      "source": [
        ">>> t2 = (3, 4)\n",
        ">>> t2 * 3"
      ],
      "metadata": {
        "colab": {
          "base_uri": "https://localhost:8080/"
        },
        "id": "vANRD7qG8d7g",
        "outputId": "3477bbc1-f4a7-4e9c-a3d1-1a69e55aa519"
      },
      "execution_count": 12,
      "outputs": [
        {
          "output_type": "execute_result",
          "data": {
            "text/plain": [
              "(3, 4, 3, 4, 3, 4)"
            ]
          },
          "metadata": {},
          "execution_count": 12
        }
      ]
    },
    {
      "cell_type": "code",
      "source": [
        " # create a tuple\n",
        " tup = (1,2,3,4,5)\n",
        "\n",
        " # access the second element\n",
        "print(tup[1])\n",
        "\n",
        "# access the last element\n",
        "print(tup[-1])"
      ],
      "metadata": {
        "colab": {
          "base_uri": "https://localhost:8080/"
        },
        "id": "YS3kESvH80qm",
        "outputId": "4f53d8b9-c899-473e-cd26-0e7e81a4081a"
      },
      "execution_count": 13,
      "outputs": [
        {
          "output_type": "stream",
          "name": "stdout",
          "text": [
            "2\n",
            "5\n"
          ]
        }
      ]
    },
    {
      "cell_type": "code",
      "source": [
        "# create a tuple\n",
        "tup = (1,2,3)\n",
        "\n",
        "# unpack the tuple\n",
        "a,b,c=tup\n",
        "\n",
        "# print the unpacked variables\n",
        "print(a,b,c)"
      ],
      "metadata": {
        "colab": {
          "base_uri": "https://localhost:8080/"
        },
        "id": "t-IX7DXx9rgL",
        "outputId": "3c62f424-be12-414e-9895-92aeabc4c59c"
      },
      "execution_count": 14,
      "outputs": [
        {
          "output_type": "stream",
          "name": "stdout",
          "text": [
            "1 2 3\n"
          ]
        }
      ]
    },
    {
      "cell_type": "code",
      "source": [
        "# create a tuple\n",
        "tup = (1,2,3)\n",
        "\n",
        "# convert tuple to list\n",
        "lst = list(tup)\n",
        "\n",
        "# print the list\n",
        "print(lst)"
      ],
      "metadata": {
        "colab": {
          "base_uri": "https://localhost:8080/"
        },
        "id": "CCW2QxJ1-DYB",
        "outputId": "af1e4a72-f766-4300-9a64-aa3f14d8848c"
      },
      "execution_count": 22,
      "outputs": [
        {
          "output_type": "stream",
          "name": "stdout",
          "text": [
            "[1, 2, 3]\n"
          ]
        }
      ]
    },
    {
      "cell_type": "code",
      "source": [
        "# create two tuples \n",
        "tup1=(1,2,3)\n",
        "tup2=(4,5,6)\n",
        "\n",
        "# concatenate the tuples\n",
        "tup3 = tup1 + tup2\n",
        "\n",
        "# print the concatenated tuple\n",
        "print(tup3)"
      ],
      "metadata": {
        "colab": {
          "base_uri": "https://localhost:8080/"
        },
        "id": "5Y-DrHgE-e2X",
        "outputId": "13c2ae83-16c4-4568-c4c1-6fa9a9bac6bd"
      },
      "execution_count": 20,
      "outputs": [
        {
          "output_type": "stream",
          "name": "stdout",
          "text": [
            "(1, 2, 3, 4, 5, 6)\n"
          ]
        }
      ]
    },
    {
      "cell_type": "code",
      "source": [
        "a={1: 'a'}\n",
        "a[2] = 'b'\n",
        "print(a)\n",
        "\n",
        "a[0] = 'c'\n",
        "print(a)\n",
        "\n",
        "a['name']='Tom'\n",
        "print(a)"
      ],
      "metadata": {
        "colab": {
          "base_uri": "https://localhost:8080/"
        },
        "id": "EnpeaQ54_Sg5",
        "outputId": "e54ef1a8-13e3-4d5b-8c1f-89a6bcfc360a"
      },
      "execution_count": 23,
      "outputs": [
        {
          "output_type": "stream",
          "name": "stdout",
          "text": [
            "{1: 'a', 2: 'b'}\n",
            "{1: 'a', 2: 'b', 0: 'c'}\n",
            "{1: 'a', 2: 'b', 0: 'c', 'name': 'Tom'}\n"
          ]
        }
      ]
    },
    {
      "cell_type": "code",
      "source": [
        "del a ['name']\n",
        "print(a)"
      ],
      "metadata": {
        "colab": {
          "base_uri": "https://localhost:8080/"
        },
        "id": "IcUvnFE4CLHh",
        "outputId": "b4f20172-6656-46f1-f7d3-eabcb42bf4f9"
      },
      "execution_count": 24,
      "outputs": [
        {
          "output_type": "stream",
          "name": "stdout",
          "text": [
            "{1: 'a', 2: 'b', 0: 'c'}\n"
          ]
        }
      ]
    },
    {
      "cell_type": "code",
      "source": [
        ">>> grade={'pey': 10, 'juliet': 99}\n",
        ">>> grade['pey']\n",
        ">>> grade['juliet']"
      ],
      "metadata": {
        "colab": {
          "base_uri": "https://localhost:8080/"
        },
        "id": "Vz8d_czUCh7N",
        "outputId": "2f849a48-b842-467b-b00e-f9727be0bfbc"
      },
      "execution_count": 27,
      "outputs": [
        {
          "output_type": "execute_result",
          "data": {
            "text/plain": [
              "99"
            ]
          },
          "metadata": {},
          "execution_count": 27
        }
      ]
    },
    {
      "cell_type": "code",
      "source": [
        ">>> a = {'name' : 'pey', 'phone' : '01022250658', 'birth' : '020225'}\n",
        ">>> a.keys()"
      ],
      "metadata": {
        "colab": {
          "base_uri": "https://localhost:8080/"
        },
        "id": "DKJaqlfBC7b5",
        "outputId": "375189b2-d85d-484d-814c-06c73892c7ff"
      },
      "execution_count": 28,
      "outputs": [
        {
          "output_type": "execute_result",
          "data": {
            "text/plain": [
              "dict_keys(['name', 'phone', 'birth'])"
            ]
          },
          "metadata": {},
          "execution_count": 28
        }
      ]
    },
    {
      "cell_type": "code",
      "source": [
        ">>> list(a.keys())"
      ],
      "metadata": {
        "colab": {
          "base_uri": "https://localhost:8080/"
        },
        "id": "l0SizhcqEKZC",
        "outputId": "a87ac40d-a6e7-45b9-89cc-76d9fd9165af"
      },
      "execution_count": 31,
      "outputs": [
        {
          "output_type": "execute_result",
          "data": {
            "text/plain": [
              "['name', 'phone', 'birth']"
            ]
          },
          "metadata": {},
          "execution_count": 31
        }
      ]
    },
    {
      "cell_type": "code",
      "source": [
        ">>> a = {'name' : 'pey', 'phone' : '01022250658', 'birth' : '020225'}\n",
        ">>> a.values()"
      ],
      "metadata": {
        "colab": {
          "base_uri": "https://localhost:8080/"
        },
        "id": "q72NYXeWEYk_",
        "outputId": "a36176f2-1e4d-47f2-ca1d-6ec9bc6765cb"
      },
      "execution_count": 33,
      "outputs": [
        {
          "output_type": "execute_result",
          "data": {
            "text/plain": [
              "dict_values(['pey', '01022250658', '020225'])"
            ]
          },
          "metadata": {},
          "execution_count": 33
        }
      ]
    },
    {
      "cell_type": "code",
      "source": [
        ">>> a = {'name' : 'pey', 'phone' : '01022250658', 'birth' : '020225'}\n",
        ">>> a.items()"
      ],
      "metadata": {
        "colab": {
          "base_uri": "https://localhost:8080/"
        },
        "id": "_jxKa882EjlL",
        "outputId": "dc3a53ba-39ab-4f50-a03c-acc57d1e87a3"
      },
      "execution_count": 34,
      "outputs": [
        {
          "output_type": "execute_result",
          "data": {
            "text/plain": [
              "dict_items([('name', 'pey'), ('phone', '01022250658'), ('birth', '020225')])"
            ]
          },
          "metadata": {},
          "execution_count": 34
        }
      ]
    },
    {
      "cell_type": "code",
      "source": [
        ">>> a.clear()\n",
        ">>> a"
      ],
      "metadata": {
        "colab": {
          "base_uri": "https://localhost:8080/"
        },
        "id": "m7uoBLlDEo-X",
        "outputId": "fa352082-a437-49ff-bf4a-8106f6a7ce51"
      },
      "execution_count": 37,
      "outputs": [
        {
          "output_type": "execute_result",
          "data": {
            "text/plain": [
              "{}"
            ]
          },
          "metadata": {},
          "execution_count": 37
        }
      ]
    },
    {
      "cell_type": "code",
      "source": [
        "a = {'name' : 'pey', 'phone' : '01022250658', 'birth' : '020225'}\n",
        "'name' in a"
      ],
      "metadata": {
        "colab": {
          "base_uri": "https://localhost:8080/"
        },
        "id": "2YuiQ2iQE2Qg",
        "outputId": "bee539fa-91e5-4af3-8f02-be65d320e870"
      },
      "execution_count": 38,
      "outputs": [
        {
          "output_type": "execute_result",
          "data": {
            "text/plain": [
              "True"
            ]
          },
          "metadata": {},
          "execution_count": 38
        }
      ]
    },
    {
      "cell_type": "code",
      "source": [
        "a = {'name' : 'pey', 'phone' : '01022250658', 'birth' : '020225'}\n",
        "a.get('name')"
      ],
      "metadata": {
        "colab": {
          "base_uri": "https://localhost:8080/",
          "height": 35
        },
        "id": "lTCMR2tsE8Wh",
        "outputId": "101729a5-97b7-4445-cb4f-4bf07207031a"
      },
      "execution_count": 39,
      "outputs": [
        {
          "output_type": "execute_result",
          "data": {
            "text/plain": [
              "'pey'"
            ],
            "application/vnd.google.colaboratory.intrinsic+json": {
              "type": "string"
            }
          },
          "metadata": {},
          "execution_count": 39
        }
      ]
    },
    {
      "cell_type": "code",
      "source": [
        "a = {'name' : 'pey', 'phone' : '01022250658', 'birth' : '020225'}\n",
        "print(a.get('nokey'))"
      ],
      "metadata": {
        "colab": {
          "base_uri": "https://localhost:8080/"
        },
        "id": "1Snc6r4RFB10",
        "outputId": "dcd168fa-81fa-4cfd-a258-2aae9e04ca37"
      },
      "execution_count": 40,
      "outputs": [
        {
          "output_type": "stream",
          "name": "stdout",
          "text": [
            "None\n"
          ]
        }
      ]
    },
    {
      "cell_type": "code",
      "source": [
        "a.get('foo','bar')"
      ],
      "metadata": {
        "colab": {
          "base_uri": "https://localhost:8080/",
          "height": 35
        },
        "id": "3PhdfK4cFHzl",
        "outputId": "241d6f54-fe41-4db7-af25-d9482dc4df6d"
      },
      "execution_count": 42,
      "outputs": [
        {
          "output_type": "execute_result",
          "data": {
            "text/plain": [
              "'bar'"
            ],
            "application/vnd.google.colaboratory.intrinsic+json": {
              "type": "string"
            }
          },
          "metadata": {},
          "execution_count": 42
        }
      ]
    },
    {
      "cell_type": "code",
      "source": [
        "a = {'name' : 'pey', 'phone' : '01022250658', 'birth' : '020225'}\n",
        "for k in a.keys():\n",
        " print(k)   "
      ],
      "metadata": {
        "colab": {
          "base_uri": "https://localhost:8080/"
        },
        "id": "oZEmBkf7FQKb",
        "outputId": "8aedf3c0-823b-441d-8451-d81063d76ff2"
      },
      "execution_count": 52,
      "outputs": [
        {
          "output_type": "stream",
          "name": "stdout",
          "text": [
            "name\n",
            "phone\n",
            "birth\n"
          ]
        }
      ]
    },
    {
      "cell_type": "code",
      "source": [
        "my_dict={\"name\":\"John\", \"age\": 30, \"city\" : \"New York\"}\n",
        "print(my_dict)"
      ],
      "metadata": {
        "colab": {
          "base_uri": "https://localhost:8080/"
        },
        "id": "ambcQDefGq5U",
        "outputId": "fb23921a-6d44-4143-fd96-aa057311d343"
      },
      "execution_count": 55,
      "outputs": [
        {
          "output_type": "stream",
          "name": "stdout",
          "text": [
            "{'name': 'John', 'age': 30, 'city': 'New York'}\n"
          ]
        }
      ]
    },
    {
      "cell_type": "code",
      "source": [
        "my_dict={\"name\":\"John\", \"age\": 30, \"city\" : \"New York\"}\n",
        "print(my_dict[\"name\"])"
      ],
      "metadata": {
        "colab": {
          "base_uri": "https://localhost:8080/"
        },
        "id": "j_Tfuk3-IGHm",
        "outputId": "d5f1d2f1-ab1e-457f-f48f-cfc1bea1cd9a"
      },
      "execution_count": 56,
      "outputs": [
        {
          "output_type": "stream",
          "name": "stdout",
          "text": [
            "John\n"
          ]
        }
      ]
    },
    {
      "cell_type": "code",
      "source": [
        "my_dict={\"name\":\"John\", \"age\": 30, \"city\" : \"New York\"}\n",
        "my_dict[\"email\"]=\"juhui0225@khu.ac.kr\"\n",
        "my_dict[\"age\"]=31\n",
        "print(my_dict)"
      ],
      "metadata": {
        "colab": {
          "base_uri": "https://localhost:8080/"
        },
        "id": "Meq6esZiIPWb",
        "outputId": "88003534-bac4-4afe-c95c-0aebe5aac64b"
      },
      "execution_count": 57,
      "outputs": [
        {
          "output_type": "stream",
          "name": "stdout",
          "text": [
            "{'name': 'John', 'age': 31, 'city': 'New York', 'email': 'juhui0225@khu.ac.kr'}\n"
          ]
        }
      ]
    },
    {
      "cell_type": "code",
      "source": [
        "my_dict={\"name\":\"John\", \"age\": 30, \"city\" : \"New York\"}\n",
        "del my_dict[\"age\"]\n",
        "print(my_dict)"
      ],
      "metadata": {
        "colab": {
          "base_uri": "https://localhost:8080/"
        },
        "id": "kjgh5CP8JlMH",
        "outputId": "36e66d3f-6452-42f8-bb2f-074323348643"
      },
      "execution_count": 58,
      "outputs": [
        {
          "output_type": "stream",
          "name": "stdout",
          "text": [
            "{'name': 'John', 'city': 'New York'}\n"
          ]
        }
      ]
    },
    {
      "cell_type": "code",
      "source": [],
      "metadata": {
        "id": "18Q1vfgTJpqp"
      },
      "execution_count": null,
      "outputs": []
    }
  ]
}